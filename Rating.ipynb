{
 "cells": [
  {
   "cell_type": "code",
   "execution_count": null,
   "id": "e9ae03c5-8f25-4064-b724-7574d280f53c",
   "metadata": {},
   "outputs": [],
   "source": [
    "import pandas as pd\n",
    "big = pd.read_csv('Test_Tweets.csv')\n",
    "My_list = big['Tweet'].to_list()\n",
    "sent = []\n",
    "cont = []\n",
    "for tweet in My_list:\n",
    "        print(tweet)\n",
    "        sentiment = input('Sentiment: (0: Bad, 1: Good) ')\n",
    "        context = input('Context: (0: Football, 1: Player, 2: Weather)')\n",
    "        sent.append(sentiment)\n",
    "        cont.append(context)"
   ]
  }
 ],
 "metadata": {
  "kernelspec": {
   "display_name": "Python 3",
   "language": "python",
   "name": "python3"
  },
  "language_info": {
   "codemirror_mode": {
    "name": "ipython",
    "version": 3
   },
   "file_extension": ".py",
   "mimetype": "text/x-python",
   "name": "python",
   "nbconvert_exporter": "python",
   "pygments_lexer": "ipython3",
   "version": "3.7.9"
  }
 },
 "nbformat": 4,
 "nbformat_minor": 5
}
