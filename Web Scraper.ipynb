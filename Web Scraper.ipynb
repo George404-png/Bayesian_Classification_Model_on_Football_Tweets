{
 "cells": [
  {
   "cell_type": "code",
   "execution_count": 9,
   "id": "7907ff00-ad2b-4366-8f33-00b08bf8fb83",
   "metadata": {},
   "outputs": [],
   "source": [
    "all_text = ''"
   ]
  },
  {
   "cell_type": "code",
   "execution_count": 30,
   "id": "d64ddafe-76d3-4c8e-9b56-444f7f54a846",
   "metadata": {},
   "outputs": [],
   "source": [
    "all_text = all_text+\" \"+text"
   ]
  },
  {
   "cell_type": "code",
   "execution_count": 31,
   "id": "44c1d174-efb7-4cad-aeb2-75f76e73fd94",
   "metadata": {},
   "outputs": [
    {
     "data": {
      "text/plain": [
       "19389"
      ]
     },
     "execution_count": 31,
     "metadata": {},
     "output_type": "execute_result"
    }
   ],
   "source": [
    "len(all_text.split(' '))"
   ]
  },
  {
   "cell_type": "code",
   "execution_count": 29,
   "id": "b256b939-a437-437b-8c52-d140e45f3ec4",
   "metadata": {},
   "outputs": [
    {
     "data": {
      "text/plain": [
       "'How Djené Dakonam has become vital for Getafe UCL qualification race Categories Company News Platform Insights The Match Analyst Scouting Time The Player Agent Coaching World Goalkeepers Interviews Women’s football Wyscout Football Observatory Wyscout.com Platform Try Wyscout Free Wyscout Blog is relocating 📦To keep reading our articles, make sure to visit (and bookmark 🔖) our brand new\\xa0Hudl Blog.You will find our players and teams analysis, Scouting Time articles, Wyscout Forum news and much more, all with a clearer and enhanced design and user experience. Wyscout Blog is relocating 📦To keep reading our articles, make sure to visit (and bookmark 🔖) our brand new\\xa0Hudl Blog.You will find our players and teams analysis, Scouting Time articles, Wyscout Forum news and much more, all with a clearer and enhanced design and user experience. Toggle menu Toggle menu How Djené Dakonam has become vital for Getafe UCL qualification race by Edward Stratmann 19 April 2019 The Match Analyst One of the big talking points from this season’s LaLiga crusade has been the magnificence of Getafe. Currently sitting in fifth place and running for a coveted Champions League qualification spot, Jose Bordalas’ supremely organised and dogged side’s defensive solidity has unquestionably been the cornerstone of their exceptional campaign. Having only conceded 29 goals in 32 matches, Getafe has the third-best defence in the league, behind only Atlético Madrid and Valencia, but strikingly above both Real Madrid and Barcelona. There’s been one man that’s really caught the eye, however, and that’s been the consistently excellent Djené Dakonam, who’s been an absolutely indispensable member of\\xa0Los Azulones‘ squad. Djene’s tremendous output has unquestionably been key to their memorable rise, as his work both individually and collectively has been of the highest order and seen him acquit himself with aplomb throughout. Possessing wonderful relationships with his fellow centre-back in Leandro Cabrera, plus with his fullbacks Vitorino Antunes and Damian Suarez, they’ve formed a formidable backline. Concentrating intently, Djene moves cohesively in unison with his defensive comrades, as on top of keeping his spacing nicely between his colleagues to either side, he’s smoothly identified when to hold his post, shift laterally, push up and drop back. Getting these fundamental details spot on has subsequently ensured Getafe have been super compact and undertaken their manager’s meticulous demands beautifully. His excellent decision making also extends to when he’s fulfilling his marking duties or when providing support to a colleague. Responding brilliantly to pressing triggers like when his man drops deep to link play, is about to receive back to goal or in open body postures and when his adversary is about to latch onto an underhit or sloppy pass, he pounces sharply. Aggressive and forceful when applying pressure, he gets touch-tight, making it extremely difficult for his man to control cleanly, turn him or execute their passes easily, which regularly forces opponents into mistakes and turnovers. Djene touch-tight marking Reading the play shrewdly, the Togolese international’s smarts have been on show in many other ways, for he picks up the ball’s trajectory quickly to give himself every chance of cutting out crosses and cutbacks, plus when he swiftly covers behind his partner when he steps up to challenge his marker and by picking up any blown marking assignments from midfield. Djene smart coverage Djene covering support Despite standing only 182 cm, not huge by any means for a central defender, Djené‘s impressive physicality and athleticism, in combination with the aforementioned, ensures this isn’t a real problem. Whether using his explosive leap to compete manfully in headed duels, his searing pace to track runners in behind, his agility to manage tricky, pacy attackers or his hulking strength to outmuscle his foes, he’s an extremely tough customer to get the better of. Djene’s superb covering speed and expertly timed tackle Djene head scan and tracking runner A master at using his arms to fend off opponents or unbalance them, and at altering his body position to keep his opponent from reaching the ball, his strength serves him notably in many situations. Timing his interventions cleanly and so good at recovering possession to boot, there’s a lot to like about the determined stopper’s work. When his team’s in possession, Djené‘s contributions have been important in terms of building out from the back and carrying the ball forward. Making coherent decisions with his passing, he typically circulates possession calmly while waiting for a weakness in the opposition defensive shape. Moving the ball with speed and intent, he likes to add tempo to moves to increase his team’s chances of spotting an opening. While capable of hitting vertical line breaking passes, which he does so when the opportunity arises, he’s usually more of a connector who progresses the ball into Getafe’s more offensively gifted players. Djene’s excellent pass to switch play If he recognises a chance to dribble upfield, he’ll quickly do so, for he knows how vital this can be, as it can draw out a midfielder to press him, thus creating a free man upfield or open passing lanes. Djene provoking press before passing neatly Assured, measured and intelligent, the assertive Djené‘s numbers illustrate what a valuable component of Bordalas’ team he’s been. The completion of 5.42 interceptions per 90, 0.14 blocked shots p90, 2.85 clearances p90, 3.02 won aerial duels p90, one dribble p90 and 0.45 progressive runs p90, his all-around output is aptly illustrated by his numbers. A real leader within Bordalas’ squad, his superb relationship with his manager, who he previously worked with back in 2014 during a stint at Alcorcon, is clearly another factor towards his success. Knowing precisely what his manager expects of him and his teammates, Djené’s executed his instructions with assuredness and quality. Last year when quizzed on who was the best player he’s had under his command, Bordalas responded glowingly in favour of his charge, saying: “I have had very good players and I have very good players, if I had to choose one at the moment it’s Djené. He is a magnificent player.” Courtesy of his impeccable performances, the man who’s been one of the premier defenders in LaLiga this term has also attracted the interest of Barcelona and Arsenal, with many others reportedly set to join the competition for his signature in the summer. But all that talk will have to wait, for the 27-year-old’s focus remains solely on the last seven matches of the season, where Getafe will have to hold firm if they’re to achieve Champions League qualification, for they still have to face the likes of Barcelona, Real Madrid and Sevilla. Djené will unquestionably relish the challenge ahead of fighting it out with some of Spain’s finest outfits, though, for he attacks every challenge with enormous determination, grit and gusto. Expect the last seven matches to be no different. Images made with Wyscout “Playlist & Draw” tool. Start your free trial\\xa0here! Tags In Getafe LaLiga Wyscout Share 201 / 320 Related Posts Wyscout Analysis: Liverpool v Manchester United The Match Analyst The importance of Sebastian Rudy in Hoffenheim’s Build-Up The Match Analyst Psg and Man United formula to control the opponent and avoid counter-attack The Match Analyst We use cookies to ensure that we give you the best experience on our website. If you continue to use this site we will assume that you are happy with it.Ok'"
      ]
     },
     "execution_count": 29,
     "metadata": {},
     "output_type": "execute_result"
    }
   ],
   "source": [
    "from urllib.request import urlopen\n",
    "from bs4 import BeautifulSoup\n",
    "\n",
    "url = \"https://blog.wyscout.com/djene-dakonam-getafe-liga/\"\n",
    "html = urlopen(url).read()\n",
    "soup = BeautifulSoup(html, features=\"html.parser\")\n",
    "\n",
    "# kill all script and style elements\n",
    "for script in soup([\"script\", \"style\"]):\n",
    "    script.extract()    # rip it out\n",
    "\n",
    "# get text\n",
    "text = soup.get_text()\n",
    "\n",
    "# break into lines and remove leading and trailing space on each\n",
    "lines = (line.strip() for line in text.splitlines())\n",
    "# break multi-headlines into a line each\n",
    "chunks = (phrase.strip() for line in lines for phrase in line.split(\"  \"))\n",
    "# drop blank lines\n",
    "text = ' '.join(chunk for chunk in chunks if chunk)\n",
    "\n",
    "text"
   ]
  },
  {
   "cell_type": "code",
   "execution_count": 32,
   "id": "289d3e0b-a3b4-4214-981f-8fbfa3f8893e",
   "metadata": {},
   "outputs": [],
   "source": [
    "text_file = open(\"players_desc.txt\", \"w\")\n",
    "n = text_file.write(all_text)\n",
    "text_file.close()"
   ]
  },
  {
   "cell_type": "code",
   "execution_count": null,
   "id": "708e4938-d95e-44b8-892d-b4c0d9184180",
   "metadata": {},
   "outputs": [],
   "source": []
  }
 ],
 "metadata": {
  "kernelspec": {
   "display_name": "Python 3",
   "language": "python",
   "name": "python3"
  },
  "language_info": {
   "codemirror_mode": {
    "name": "ipython",
    "version": 3
   },
   "file_extension": ".py",
   "mimetype": "text/x-python",
   "name": "python",
   "nbconvert_exporter": "python",
   "pygments_lexer": "ipython3",
   "version": "3.7.9"
  }
 },
 "nbformat": 4,
 "nbformat_minor": 5
}
