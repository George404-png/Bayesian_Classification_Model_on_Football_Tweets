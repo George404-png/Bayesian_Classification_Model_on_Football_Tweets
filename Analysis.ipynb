{
 "cells": [
  {
   "cell_type": "code",
   "execution_count": 1,
   "id": "080efc57-e71f-4a93-8b99-a3a739e73a08",
   "metadata": {},
   "outputs": [],
   "source": [
    "import pandas as pd\n",
    "import numpy as np\n",
    "import nltk\n",
    "from nltk.corpus import stopwords\n",
    "#nltk.download('stopwords')\n",
    "import re,string\n",
    "from sklearn.feature_extraction.text import CountVectorizer\n",
    "from sklearn.model_selection import train_test_split\n",
    "import math\n",
    "import random\n",
    "from sklearn.metrics import confusion_matrix\n",
    "import heapq\n",
    "from sklearn.cluster import KMeans\n",
    "import matplotlib.pyplot as plt\n",
    "from sklearn import preprocessing\n",
    "from sklearn.preprocessing import StandardScaler\n",
    "\n",
    "import statsmodels.api as sm\n",
    "from sklearn.linear_model import LinearRegression\n",
    "\n",
    "random.seed(10)"
   ]
  },
  {
   "cell_type": "markdown",
   "id": "9f1ace19-564b-46b8-b42d-e22818b46175",
   "metadata": {},
   "source": [
    "# Importring the required data for training"
   ]
  },
  {
   "cell_type": "code",
   "execution_count": 2,
   "id": "1e3779da-3445-4e14-a704-8b7fbce953a2",
   "metadata": {},
   "outputs": [
    {
     "name": "stdout",
     "output_type": "stream",
     "text": [
      "CPU times: user 18.9 ms, sys: 4.56 ms, total: 23.5 ms\n",
      "Wall time: 30.3 ms\n"
     ]
    }
   ],
   "source": [
    "%%time\n",
    "train = pd.read_csv('sentiment_tweets3.csv')\n",
    "with open('epdf.pub_inverting-the-pyramid-a-history-of-football-tactics.txt', 'r') as file:\n",
    "    football = file.read().replace('\\n', '')\n",
    "weather = pd.read_csv('weather-agg-DFE.csv')\n",
    "with open('players_desc.txt', 'r') as file:\n",
    "    players = file.read().replace('\\n', '')\n"
   ]
  },
  {
   "cell_type": "code",
   "execution_count": 3,
   "id": "f2bb09ae-b5bc-453d-9cde-449bfa50533f",
   "metadata": {},
   "outputs": [],
   "source": [
    "train = train.rename(columns={'message to examine':'tweet','label (depression result)':'label'})"
   ]
  },
  {
   "cell_type": "markdown",
   "id": "bd0c3ddb-148e-48bd-b3b5-47c7eeaf5c07",
   "metadata": {},
   "source": [
    "# Function for preprocessing:\n",
    "To remove the punctuation, stop words and lemmatize and find the stem of the word"
   ]
  },
  {
   "cell_type": "code",
   "execution_count": 4,
   "id": "008ceb8e-13e3-4b64-aeb1-9983f615b66b",
   "metadata": {},
   "outputs": [],
   "source": [
    "from nltk.corpus import stopwords\n",
    "from nltk.stem import PorterStemmer\n",
    "\n",
    "ps = PorterStemmer()\n",
    "\n",
    "eng_stopwords = set(stopwords.words('english'))\n",
    "\n",
    "def preprocess_text(text):\n",
    "    text = text.lower()\n",
    "    \n",
    "    text = re.sub(r\"http\\S+\", \"\", text)\n",
    "    punct = list(string.punctuation)\n",
    "    punct.append('’')\n",
    "    punct.append('‘')\n",
    "    punct.append('”')\n",
    "    punct.append('–')\n",
    "    \n",
    "    text = \"\".join([a for a in text if a not in punct])\n",
    "    \n",
    "    text = re.sub(r\"\\d\", \" \", text)\n",
    "    \n",
    "    text = re.sub(r\"\\s+\", \" \", text)\n",
    "    tokens = nltk.word_tokenize(text)\n",
    "    tokens = [token for token in tokens if token not in eng_stopwords]\n",
    "    tokens = [ps.stem(token) for token in tokens]\n",
    "    \n",
    "    return ' '.join(tokens)"
   ]
  },
  {
   "cell_type": "code",
   "execution_count": 5,
   "id": "25219c43-220d-4547-978f-c797201d58cf",
   "metadata": {},
   "outputs": [],
   "source": [
    "positive = train[train['label'] == 0].reset_index(drop=True)\n",
    "negative = train[train['label'] == 1].reset_index(drop=True)"
   ]
  },
  {
   "cell_type": "markdown",
   "id": "b55e79da-9b4e-4c06-ae0e-c6fabc388d26",
   "metadata": {},
   "source": [
    "# Training Text Preprocessing:\n",
    "Splitting the training texts which come eithe rin the form of tweets or texts into words and applying the preprocessing function"
   ]
  },
  {
   "cell_type": "code",
   "execution_count": 7,
   "id": "7a11a386-c225-40b3-84b3-70f32eac4d2c",
   "metadata": {},
   "outputs": [
    {
     "name": "stdout",
     "output_type": "stream",
     "text": [
      "60492\n"
     ]
    }
   ],
   "source": [
    "positive['tweet'] = positive['tweet'].apply(preprocess_text)\n",
    "total_positive = positive['tweet'].to_list()\n",
    "total_positive = ' '.join(total_positive)\n",
    "total_positive = total_positive.split(' ')\n",
    "print(len(total_positive))\n"
   ]
  },
  {
   "cell_type": "code",
   "execution_count": 8,
   "id": "3c7f3095-da54-4b41-8426-2d3ba4ad4800",
   "metadata": {},
   "outputs": [
    {
     "name": "stdout",
     "output_type": "stream",
     "text": [
      "31254\n"
     ]
    }
   ],
   "source": [
    "negative['tweet'] = negative['tweet'].apply(preprocess_text)\n",
    "total_negative = negative['tweet'].to_list()\n",
    "total_negative = ' '.join(total_negative)\n",
    "total_negative = total_negative.split(' ')\n",
    "print(len(total_negative))"
   ]
  },
  {
   "cell_type": "code",
   "execution_count": 9,
   "id": "3d2c639f-8181-40bb-aef3-1ef086ead126",
   "metadata": {},
   "outputs": [
    {
     "name": "stdout",
     "output_type": "stream",
     "text": [
      "9325\n"
     ]
    }
   ],
   "source": [
    "weather['tweet_text'] = weather['tweet_text'].apply(preprocess_text)\n",
    "total_weather = weather['tweet_text'].to_list()\n",
    "total_weather = ' '.join(total_weather)\n",
    "total_weather = total_weather.split(' ')\n",
    "print(len(total_weather))"
   ]
  },
  {
   "cell_type": "code",
   "execution_count": 10,
   "id": "be3cd799-d586-440e-bfb5-b53205da9895",
   "metadata": {},
   "outputs": [
    {
     "name": "stdout",
     "output_type": "stream",
     "text": [
      "68214\n"
     ]
    }
   ],
   "source": [
    "football_text = preprocess_text(football)\n",
    "total_football = football_text.split(' ')\n",
    "print(len(total_football))"
   ]
  },
  {
   "cell_type": "code",
   "execution_count": 11,
   "id": "21583a5b-fde9-4fa6-9db5-ff6c83c395eb",
   "metadata": {},
   "outputs": [
    {
     "name": "stdout",
     "output_type": "stream",
     "text": [
      "10823\n"
     ]
    }
   ],
   "source": [
    "player_text = preprocess_text(players)\n",
    "total_player = player_text.split(' ')\n",
    "print(len(total_player))"
   ]
  },
  {
   "cell_type": "code",
   "execution_count": 12,
   "id": "b8c1d821-1cb4-4b3f-9995-118522a251a0",
   "metadata": {},
   "outputs": [],
   "source": [
    "#Randomly generate a sample so that the number of words in a training text are the same per dimension \n",
    "random.seed(10)\n",
    "positive_training = random.sample(total_positive,31254)\n",
    "negative_training = total_negative\n",
    "football_training = random.sample(total_football,9325)\n",
    "weather_training = total_weather\n",
    "player_training = random.sample(total_player,9325)"
   ]
  },
  {
   "cell_type": "code",
   "execution_count": 13,
   "id": "ddca02e5-9c01-4716-846c-e23169b2307e",
   "metadata": {},
   "outputs": [],
   "source": [
    "def bag_of_words_creator(arr):\n",
    "    bag = {}\n",
    "    for word in arr:\n",
    "        if word in bag:\n",
    "            bag[word] = bag[word] + 1\n",
    "        else:\n",
    "            bag[word] = 1\n",
    "\n",
    "    return bag"
   ]
  },
  {
   "cell_type": "code",
   "execution_count": 14,
   "id": "795e9ef5-3371-49e0-a1f8-dbe0f255d544",
   "metadata": {},
   "outputs": [],
   "source": [
    "counts_positive = bag_of_words_creator(positive_training)\n",
    "counts_negative = bag_of_words_creator(negative_training)\n",
    "counts_football = bag_of_words_creator(football_training)\n",
    "counts_weather = bag_of_words_creator(weather_training)\n",
    "counts_players = bag_of_words_creator(player_training)"
   ]
  },
  {
   "cell_type": "code",
   "execution_count": 38,
   "id": "26012276-2b3c-41a3-8e40-0d42ddcc03f4",
   "metadata": {},
   "outputs": [
    {
     "name": "stdout",
     "output_type": "stream",
     "text": [
      "[('im', 399), ('good', 324), ('love', 307), ('day', 301), ('go', 293), ('thank', 252), ('get', 241), ('time', 201), ('lol', 189), ('like', 185), ('today', 163), ('u', 153), ('see', 149), ('work', 143), ('got', 143)]\n",
      "[('depress', 2338), ('â\\x80¦', 373), ('anxieti', 360), ('im', 263), ('like', 218), ('emoji', 192), ('get', 173), ('go', 169), ('face', 169), ('dont', 167), ('peopl', 163), ('feel', 161), ('help', 152), ('know', 150), ('one', 133)]\n",
      "[('play', 91), ('footbal', 89), ('game', 88), ('player', 74), ('would', 68), ('said', 51), ('two', 50), ('side', 48), ('cup', 47), ('world', 43), ('ball', 43), ('team', 43), ('first', 43), ('back', 42), ('goal', 42)]\n",
      "[('play', 115), ('ball', 92), ('player', 88), ('team', 85), ('time', 83), ('one', 75), ('wyscout', 63), ('goal', 56), ('footbal', 55), ('dribbl', 48), ('season', 47), ('pass', 47), ('space', 47), ('scout', 47), ('use', 46)]\n",
      "[('mention', 403), ('weather', 346), ('link', 255), ('storm', 130), ('rt', 129), ('f', 104), ('hot', 89), ('day', 86), ('sunni', 85), ('sunshin', 77), ('pm', 69), ('degre', 64), ('like', 61), ('humid', 60), ('go', 59)]\n"
     ]
    }
   ],
   "source": [
    "#Top 15 most frequent words per bag\n",
    "print(heapq.nlargest(15, counts_positive.items(), key=lambda i: i[1]))\n",
    "print(heapq.nlargest(15, counts_negative.items(), key=lambda i: i[1]))\n",
    "print(heapq.nlargest(15, counts_football.items(), key=lambda i: i[1]))\n",
    "print(heapq.nlargest(15, counts_players.items(), key=lambda i: i[1]))\n",
    "print(heapq.nlargest(15, counts_weather.items(), key=lambda i: i[1]))"
   ]
  },
  {
   "cell_type": "code",
   "execution_count": 17,
   "id": "c85c3112-e071-48e2-9dc8-9a07e24e0868",
   "metadata": {},
   "outputs": [
    {
     "name": "stdout",
     "output_type": "stream",
     "text": [
      "9025\n",
      "7102\n",
      "3496\n",
      "2347\n",
      "2867\n"
     ]
    }
   ],
   "source": [
    "print(len(counts_positive))\n",
    "print(len(counts_negative))\n",
    "print(len(counts_football))\n",
    "print(len(counts_players))\n",
    "print(len(counts_weather))\n"
   ]
  },
  {
   "cell_type": "markdown",
   "id": "77695200-e4a3-4b3d-82ef-309eded298cb",
   "metadata": {},
   "source": [
    "# Finding the likelihoods of each word in a bag"
   ]
  },
  {
   "cell_type": "code",
   "execution_count": 18,
   "id": "1eff2d34-3211-4e85-ae05-2ff732f834c7",
   "metadata": {},
   "outputs": [],
   "source": [
    "def smoothing(my_dict):\n",
    "    smooth = {}\n",
    "    for key in my_dict:\n",
    "        smooth[key] = my_dict[key]+1\n",
    "    return smooth"
   ]
  },
  {
   "cell_type": "code",
   "execution_count": 19,
   "id": "36a9b663-3c24-4c32-88fe-313c20dc3a85",
   "metadata": {},
   "outputs": [],
   "source": [
    "def total_word_counter(my_dict):\n",
    "    count = 0\n",
    "    for key in my_dict:\n",
    "        count+=my_dict[key]\n",
    "    \n",
    "    return count"
   ]
  },
  {
   "cell_type": "code",
   "execution_count": 20,
   "id": "6dc6d5ad-a9f1-499f-9666-0a028bb2cc39",
   "metadata": {},
   "outputs": [],
   "source": [
    "def probabilities(my_dict):\n",
    "    total = total_word_counter(my_dict)\n",
    "    probabilities = {}\n",
    "    logprobs = {}\n",
    "    for key in my_dict:\n",
    "        probabilities[key] = my_dict[key]/total\n",
    "        logprobs[key] = math.log(my_dict[key]/total)\n",
    "    other = 1/total\n",
    "    return probabilities,logprobs,other\n",
    "\n",
    "probs_positive,logprobs_positive,positive_missing = probabilities(smoothing(counts_positive))\n",
    "probs_negative,logprobs_negative,negative_missing = probabilities(smoothing(counts_negative))\n",
    "probs_football,logprobs_football,football_missing = probabilities(smoothing(counts_football))\n",
    "probs_weather,logprobs_weather,weather_missing = probabilities(smoothing(counts_weather))\n",
    "probs_players,logprobs_players,players_missing = probabilities(smoothing(counts_players))"
   ]
  },
  {
   "cell_type": "markdown",
   "id": "53036633-cdf2-43e5-aee0-fe008ce2a6ac",
   "metadata": {},
   "source": [
    "# Functions for Calculating the Sentiment and Content of priors of a tweet"
   ]
  },
  {
   "cell_type": "code",
   "execution_count": 22,
   "id": "34c4c0f3-5325-4ae2-8f6b-c5826fe8a84d",
   "metadata": {},
   "outputs": [],
   "source": [
    "def sentiment_calc(new_tweet,bag1,bag2):\n",
    "    tweet = new_tweet.split(' ')\n",
    "    prior = [1/2, 1/2]\n",
    "    label = 0\n",
    "    word1_missing = negative_missing\n",
    "    word2_missing = positive_missing\n",
    "    for word in tweet:\n",
    "        #rounds = [round(num, 5) for num in prior]\n",
    "        #print(rounds)\n",
    "        if word in set(bag1.keys()) and word in set(bag2.keys()):\n",
    "            prior1 = prior[0]\n",
    "            prior2 = prior[1]\n",
    "            prior[0] = prior1*bag1[word]/(prior1*bag1[word] + prior2*bag2[word])\n",
    "            prior[1] = prior2*bag2[word]/(prior1*bag1[word] + prior2*bag2[word])\n",
    "        elif word in set(bag1.keys()):\n",
    "            prior1 = prior[0]\n",
    "            prior2 = prior[1]\n",
    "            prior[0] = prior1*bag1[word]/(prior1*bag1[word] + prior2*word2_missing)\n",
    "            prior[1] = prior2*word2_missing/(prior1*bag1[word] + prior2*word2_missing)\n",
    "        elif word in set(bag2.keys()):\n",
    "            prior1 = prior[0]\n",
    "            prior2 = prior[1]\n",
    "            prior[0] = prior1*word1_missing/(prior1*word1_missing + prior2*bag2[word])\n",
    "            prior[1] = prior2*bag2[word]/(prior2*word1_missing + prior2*bag2[word])  \n",
    "        else:\n",
    "            prior1 = prior[0]\n",
    "            prior2 = prior[1]\n",
    "            prior[0] = prior1*word1_missing/(prior1*word1_missing + prior2*word2_missing)\n",
    "            prior[1] = prior2*word2_missing/(prior1*word1_missing + prior2*word2_missing)\n",
    "        \n",
    "    max_value = max(prior)        \n",
    "    return prior.index(max_value), prior"
   ]
  },
  {
   "cell_type": "code",
   "execution_count": 23,
   "id": "ffb9231e-1e25-485a-a548-d8ef96fea180",
   "metadata": {},
   "outputs": [],
   "source": [
    "def three_sentiment(new_tweet, bag1, bag2, bag3):\n",
    "    tweet = new_tweet.split(' ')\n",
    "    prior = [1/3, 1/3, 1/3]\n",
    "    label = 0\n",
    "    word_missing1 = football_missing\n",
    "    word_missing2 = players_missing\n",
    "    word_missing3 = weather_missing\n",
    "    for word in tweet:\n",
    "        #rounds = [round(num, 5) for num in prior]\n",
    "        #print(rounds)\n",
    "        if word in set(bag1.keys()) and word in set(bag2.keys()) and word in set(bag3.keys()):\n",
    "            prior1 = prior[0]\n",
    "            prior2 = prior[1]\n",
    "            prior3 = prior[2]\n",
    "            prior[0] = prior1*bag1[word]/(prior1*bag1[word] + prior2*bag2[word] + prior3*bag3[word])\n",
    "            prior[1] = prior2*bag2[word]/(prior1*bag1[word] + prior2*bag2[word] + prior3*bag3[word])\n",
    "            prior[2] = prior3*bag3[word]/(prior1*bag1[word] + prior2*bag2[word] + prior3*bag3[word])\n",
    "        elif word in set(bag1.keys()) and word in set(bag2.keys()) and word not in set(bag3.keys()):\n",
    "            prior1 = prior[0]\n",
    "            prior2 = prior[1]\n",
    "            prior3 = prior[2]\n",
    "            prior[0] = prior1*bag1[word]/(prior1*bag1[word] + prior2*bag2[word] + prior3*word_missing3)\n",
    "            prior[1] = prior2*bag2[word]/(prior1*bag1[word] + prior2*bag2[word] + prior3*word_missing3)\n",
    "            prior[2] = prior3*word_missing3/(prior1*bag1[word] + prior2*bag2[word] + prior3*word_missing3)\n",
    "        elif word in set(bag1.keys()) and word not in set(bag2.keys()) and word in set(bag3.keys()):\n",
    "            prior1 = prior[0]\n",
    "            prior2 = prior[1]\n",
    "            prior3 = prior[2]\n",
    "            prior[0] = prior1*bag1[word]/(prior1*bag1[word] + prior2*word_missing2 + prior3*bag3[word])  \n",
    "            prior[1] = prior2*word_missing2/(prior1*bag1[word] + prior2*word_missing2 + prior3*bag3[word])  \n",
    "            prior[2] = prior3*bag3[word]/(prior1*bag1[word] + prior2*word_missing2 + prior3*bag3[word])  \n",
    "        elif word not in set(bag1.keys()) and word in set(bag2.keys()) and word in set(bag3.keys()):\n",
    "            prior1 = prior[0]\n",
    "            prior2 = prior[1]\n",
    "            prior3 = prior[2]\n",
    "            prior[0] = prior1*word_missing1/(prior1*word_missing1 + prior2*bag2[word] + prior3*bag3[word]) \n",
    "            prior[1] = prior2*bag2[word]/(prior1*word_missing1 + prior2*bag2[word] + prior3*bag3[word]) \n",
    "            prior[2] = prior3*bag3[word]/(prior1*word_missing1 + prior2*bag2[word] + prior3*bag3[word])\n",
    "        elif word not in set(bag1.keys()) and word not in set(bag2.keys()) and word in set(bag3.keys()):\n",
    "            prior1 = prior[0]\n",
    "            prior2 = prior[1]\n",
    "            prior3 = prior[2]\n",
    "            prior[0] = prior1*word_missing1/(prior1*word_missing1 + prior2*word_missing2 + prior3*bag3[word])  \n",
    "            prior[1] = prior2*word_missing2/(prior1*word_missing1 + prior2*word_missing2 + prior3*bag3[word]) \n",
    "            prior[2] = prior3*bag3[word]/(prior1*word_missing1 + prior2*word_missing2 + prior3*bag3[word]) \n",
    "        elif word not in set(bag1.keys()) and word in set(bag2.keys()) and word not in set(bag3.keys()):\n",
    "            prior1 = prior[0]\n",
    "            prior2 = prior[1]\n",
    "            prior3 = prior[2]\n",
    "            prior[0] = prior1*word_missing1/(prior1*word_missing1 + prior2*bag2[word] + prior3*word_missing3)  \n",
    "            prior[1] = prior2*bag2[word]/(prior1*word_missing1 + prior2*bag2[word] + prior3*word_missing3) \n",
    "            prior[2] = prior3*word_missing3/(prior1*word_missing1 + prior2*bag2[word] + prior3*word_missing3) \n",
    "        elif word in set(bag1.keys()) and word not in set(bag2.keys()) and word not in set(bag3.keys()):\n",
    "            prior1 = prior[0]\n",
    "            prior2 = prior[1]\n",
    "            prior3 = prior[2]\n",
    "            prior[0] = prior1*bag1[word]/(prior1*bag1[word] + prior2*word_missing2 + prior3*word_missing3)   \n",
    "            prior[1] = prior2*word_missing2/(prior1*bag1[word] + prior2*word_missing2 + prior3*word_missing3)  \n",
    "            prior[2] = prior3*word_missing2/(prior1*bag1[word] + prior2*word_missing2 + prior3*word_missing3) \n",
    "        else:\n",
    "            prior1 = prior[0]\n",
    "            prior2 = prior[1]\n",
    "            prior3 = prior[2]\n",
    "            prior[0] = prior1*word_missing1/(prior1*word_missing1 + prior2*word_missing2 + prior3*word_missing3)   \n",
    "            prior[1] = prior2*word_missing2/(prior1*word_missing1 + prior2*word_missing2 + prior3*word_missing3)  \n",
    "            prior[2] = prior3*word_missing3/(prior1*word_missing1 + prior2*word_missing2 + prior3*word_missing3)\n",
    "                    \n",
    "    \n",
    "    max_value = max(prior)\n",
    "    indices = [index for index, value in enumerate(prior) if value == max_value]       \n",
    "    return random.choice(indices), prior"
   ]
  },
  {
   "cell_type": "markdown",
   "id": "a07db8a0-8996-4927-adc8-b52a6b84ef6b",
   "metadata": {},
   "source": [
    "# Confusion Matrix"
   ]
  },
  {
   "cell_type": "code",
   "execution_count": 24,
   "id": "bc9e5195-ad8e-4e78-9483-08b8b64a417a",
   "metadata": {},
   "outputs": [],
   "source": [
    "def conf_matrix(y_actual, y_predicted):\n",
    "    unique_label = np.unique([y_actual, y_predicted])\n",
    "    cmtx = pd.DataFrame(\n",
    "        confusion_matrix(y_actual, y_predicted, labels=unique_label), \n",
    "        index=['true:{:}'.format(x) for x in unique_label], \n",
    "        columns=['pred:{:}'.format(x) for x in unique_label]\n",
    "    )\n",
    "    print(cmtx)"
   ]
  },
  {
   "cell_type": "markdown",
   "id": "4a3dcd69-9a5b-463f-98bc-7c419f71e775",
   "metadata": {},
   "source": [
    "# Testing set and Analysis"
   ]
  },
  {
   "cell_type": "code",
   "execution_count": 25,
   "id": "8171e579-b6b5-4f60-822e-13b978e92aac",
   "metadata": {},
   "outputs": [],
   "source": [
    "test_data = pd.read_csv('Test_Tweets.csv')\n",
    "test_data = test_data.drop(['Unnamed: 0','index'],axis = 1)\n",
    "test_data = test_data.drop_duplicates(subset = 'Tweet')\n",
    "test_data = test_data.reset_index(drop = True)"
   ]
  },
  {
   "cell_type": "code",
   "execution_count": 26,
   "id": "36cadc93-ca01-401b-b3e1-9eb0e8ff835c",
   "metadata": {},
   "outputs": [
    {
     "data": {
      "text/html": [
       "<div>\n",
       "<style scoped>\n",
       "    .dataframe tbody tr th:only-of-type {\n",
       "        vertical-align: middle;\n",
       "    }\n",
       "\n",
       "    .dataframe tbody tr th {\n",
       "        vertical-align: top;\n",
       "    }\n",
       "\n",
       "    .dataframe thead th {\n",
       "        text-align: right;\n",
       "    }\n",
       "</style>\n",
       "<table border=\"1\" class=\"dataframe\">\n",
       "  <thead>\n",
       "    <tr style=\"text-align: right;\">\n",
       "      <th></th>\n",
       "      <th>Date</th>\n",
       "      <th>Tweet</th>\n",
       "      <th>Hashtags</th>\n",
       "      <th>Match</th>\n",
       "      <th>Stadium</th>\n",
       "      <th>Match_Time</th>\n",
       "      <th>Attendance</th>\n",
       "      <th>Capacity</th>\n",
       "      <th>Sent_Label_Actual</th>\n",
       "      <th>Context_Label_Actual</th>\n",
       "    </tr>\n",
       "  </thead>\n",
       "  <tbody>\n",
       "    <tr>\n",
       "      <th>0</th>\n",
       "      <td>2018-06-29 23:57:16</td>\n",
       "      <td>Matchday Round of TSN am ET internationals pla...</td>\n",
       "      <td>FRAARG,KazanArena,WorldCup,FRA,ARG</td>\n",
       "      <td>FRAARG</td>\n",
       "      <td>Kazan</td>\n",
       "      <td>Before</td>\n",
       "      <td>42873</td>\n",
       "      <td>45379</td>\n",
       "      <td>1</td>\n",
       "      <td>0</td>\n",
       "    </tr>\n",
       "    <tr>\n",
       "      <th>1</th>\n",
       "      <td>2018-06-29 23:58:06</td>\n",
       "      <td>Probable line up for</td>\n",
       "      <td>WorldCup,FRAARG,FRA,ARG</td>\n",
       "      <td>FRAARG</td>\n",
       "      <td>Kazan</td>\n",
       "      <td>Before</td>\n",
       "      <td>42873</td>\n",
       "      <td>45379</td>\n",
       "      <td>1</td>\n",
       "      <td>1</td>\n",
       "    </tr>\n",
       "    <tr>\n",
       "      <th>2</th>\n",
       "      <td>2018-06-30 23:51:01</td>\n",
       "      <td>French commentators reaction to Pavard goal is...</td>\n",
       "      <td>FRA,FRAARG,WorldCup</td>\n",
       "      <td>FRAARG</td>\n",
       "      <td>Kazan</td>\n",
       "      <td>During/After</td>\n",
       "      <td>42873</td>\n",
       "      <td>45379</td>\n",
       "      <td>1</td>\n",
       "      <td>1</td>\n",
       "    </tr>\n",
       "    <tr>\n",
       "      <th>3</th>\n",
       "      <td>2018-06-30 16:30:33</td>\n",
       "      <td>Argentina are OUT FT Reaction</td>\n",
       "      <td>FRA,ARG,FRAARG,WorldCup</td>\n",
       "      <td>FRAARG</td>\n",
       "      <td>Kazan</td>\n",
       "      <td>During/After</td>\n",
       "      <td>42873</td>\n",
       "      <td>45379</td>\n",
       "      <td>0</td>\n",
       "      <td>0</td>\n",
       "    </tr>\n",
       "    <tr>\n",
       "      <th>4</th>\n",
       "      <td>2018-06-30 17:11:50</td>\n",
       "      <td>We will shortly discover who will be playing i...</td>\n",
       "      <td>FRA,WorldCup,URUPOR</td>\n",
       "      <td>URUPOR</td>\n",
       "      <td>Sochi</td>\n",
       "      <td>During/After</td>\n",
       "      <td>44287</td>\n",
       "      <td>44287</td>\n",
       "      <td>1</td>\n",
       "      <td>0</td>\n",
       "    </tr>\n",
       "  </tbody>\n",
       "</table>\n",
       "</div>"
      ],
      "text/plain": [
       "                  Date                                              Tweet  \\\n",
       "0  2018-06-29 23:57:16  Matchday Round of TSN am ET internationals pla...   \n",
       "1  2018-06-29 23:58:06                               Probable line up for   \n",
       "2  2018-06-30 23:51:01  French commentators reaction to Pavard goal is...   \n",
       "3  2018-06-30 16:30:33                      Argentina are OUT FT Reaction   \n",
       "4  2018-06-30 17:11:50  We will shortly discover who will be playing i...   \n",
       "\n",
       "                             Hashtags   Match Stadium    Match_Time  \\\n",
       "0  FRAARG,KazanArena,WorldCup,FRA,ARG  FRAARG   Kazan        Before   \n",
       "1             WorldCup,FRAARG,FRA,ARG  FRAARG   Kazan        Before   \n",
       "2                 FRA,FRAARG,WorldCup  FRAARG   Kazan  During/After   \n",
       "3             FRA,ARG,FRAARG,WorldCup  FRAARG   Kazan  During/After   \n",
       "4                 FRA,WorldCup,URUPOR  URUPOR   Sochi  During/After   \n",
       "\n",
       "   Attendance  Capacity  Sent_Label_Actual  Context_Label_Actual  \n",
       "0       42873     45379                  1                     0  \n",
       "1       42873     45379                  1                     1  \n",
       "2       42873     45379                  1                     1  \n",
       "3       42873     45379                  0                     0  \n",
       "4       44287     44287                  1                     0  "
      ]
     },
     "execution_count": 26,
     "metadata": {},
     "output_type": "execute_result"
    }
   ],
   "source": [
    "test_data.head()"
   ]
  },
  {
   "cell_type": "code",
   "execution_count": 27,
   "id": "02f27b10-d8e1-4bb0-9ee2-60b7bc5744fd",
   "metadata": {},
   "outputs": [],
   "source": [
    "test_data['Processed'] = test_data['Tweet'].apply(preprocess_text)"
   ]
  },
  {
   "cell_type": "code",
   "execution_count": 28,
   "id": "5815a85b-37b9-4e11-829d-fb2f98dcf280",
   "metadata": {},
   "outputs": [],
   "source": [
    "testing = []\n",
    "positive_end = []\n",
    "negative_end = []\n",
    "tweets_test = test_data['Tweet'].apply(preprocess_text)\n",
    "for i in tweets_test:\n",
    "    label,sent= sentiment_calc(i,probs_negative,probs_positive)\n",
    "    testing.append(label)\n",
    "    positive_end.append(sent[1])\n",
    "    negative_end.append(sent[0])\n",
    "\n",
    "test_data['Sentiment_label'] = testing\n",
    "test_data['negative_sentiment'] = negative_end\n",
    "test_data['positive_sentiment'] = positive_end"
   ]
  },
  {
   "cell_type": "code",
   "execution_count": 29,
   "id": "b1cc4445-dd4d-48a0-8363-d3bd43081392",
   "metadata": {},
   "outputs": [],
   "source": [
    "testing_content = []\n",
    "players_end = []\n",
    "football_end = []\n",
    "weather_end = []\n",
    "\n",
    "tweets_test = test_data['Tweet'].apply(preprocess_text)\n",
    "for i in tweets_test:\n",
    "    label,sent= three_sentiment(i,probs_football,probs_players,probs_weather)\n",
    "    testing_content.append(label)\n",
    "    football_end.append(sent[0])\n",
    "    players_end.append(sent[1])\n",
    "    weather_end.append(sent[2])\n",
    "\n",
    "test_data['Content_label'] = testing_content\n",
    "test_data['Football'] = football_end\n",
    "test_data['Players'] = players_end\n",
    "test_data['Weather'] = weather_end"
   ]
  },
  {
   "cell_type": "code",
   "execution_count": 30,
   "id": "ea8f1b1f-c356-426d-809a-ce37bd254acc",
   "metadata": {},
   "outputs": [
    {
     "name": "stdout",
     "output_type": "stream",
     "text": [
      "        pred:0  pred:1\n",
      "true:0       2       6\n",
      "true:1       5      24\n",
      "Accuracy:  70.27 %\n",
      "Precision Bad:  25.0 %\n",
      "Precision Good:  82.76 %\n"
     ]
    }
   ],
   "source": [
    "conf_matrix(test_data[\"Sent_Label_Actual\"],test_data['Sentiment_label'])\n",
    "total = 2+6+5+24\n",
    "print('Accuracy: ',str(round(26/total*100, 2)),'%')\n",
    "print('Precision Bad: ',str(round(2/8*100, 2)),'%')\n",
    "print('Precision Good: ',str(round(24/29*100, 2)),'%')"
   ]
  },
  {
   "cell_type": "code",
   "execution_count": 31,
   "id": "8349f8e2-6f08-4fe6-a027-d4ad17d1c4ea",
   "metadata": {},
   "outputs": [
    {
     "name": "stdout",
     "output_type": "stream",
     "text": [
      "        pred:0  pred:1  pred:2\n",
      "true:0       9       6       5\n",
      "true:1       5       3       3\n",
      "true:2       2       2       2\n",
      "Accuracy:  37.84 %\n",
      "Precision Football:  45.0 %\n",
      "Precision Players:  27.27 %\n",
      "Precision Weather:  33.33 %\n"
     ]
    }
   ],
   "source": [
    "conf_matrix(test_data['Context_Label_Actual'], test_data['Content_label'])\n",
    "print('Accuracy: ',str(round((9+3+2)/total*100, 2)),'%')\n",
    "print('Precision Football: ',str(round((9)/(9+6+5)*100, 2)),'%')\n",
    "print('Precision Players: ',str(round((3)/(5+3+3)*100, 2)),'%')\n",
    "print('Precision Weather: ',str(round((2)/(2+2+2)*100, 2)),'%')"
   ]
  },
  {
   "cell_type": "code",
   "execution_count": 32,
   "id": "102ca06b-13f0-4896-a6d2-45c24a80f232",
   "metadata": {},
   "outputs": [],
   "source": [
    "test_data['Date'] = test_data['Date'].apply(lambda x : x[:10])"
   ]
  },
  {
   "cell_type": "code",
   "execution_count": 33,
   "id": "322850fb-bcb8-4b25-afaf-de719ed7b08b",
   "metadata": {},
   "outputs": [],
   "source": [
    "grouped = test_data.groupby(['Date']).mean()"
   ]
  },
  {
   "cell_type": "code",
   "execution_count": 34,
   "id": "8cead6ab-fa9b-4634-9846-8ab99fc7174c",
   "metadata": {},
   "outputs": [
    {
     "data": {
      "text/plain": [
       "Text(0, 0.5, 'Proportion')"
      ]
     },
     "execution_count": 34,
     "metadata": {},
     "output_type": "execute_result"
    },
    {
     "data": {
      "image/png": "[encoded data removed]",
      "text/plain": [
       "<Figure size 576x360 with 1 Axes>"
      ]
     },
     "metadata": {
      "needs_background": "light"
     },
     "output_type": "display_data"
    }
   ],
   "source": [
    "my_plot1 = grouped[['positive_sentiment','negative_sentiment']].plot(kind='bar', stacked=True,figsize = (8,5),title = \"Figure 1: Daily Average Sentiment\")\n",
    "\n",
    "my_plot1.set_ylabel(\"Proportion\")\n"
   ]
  },
  {
   "cell_type": "code",
   "execution_count": 35,
   "id": "4599e9d9-041b-4d34-80dc-e7937dfcfef9",
   "metadata": {},
   "outputs": [
    {
     "data": {
      "text/plain": [
       "Text(17.200000000000003, 0.5, 'Proportion')"
      ]
     },
     "execution_count": 35,
     "metadata": {},
     "output_type": "execute_result"
    },
    {
     "data": {
      "image/png": "[encoded data removed]",
      "text/plain": [
       "<Figure size 576x360 with 1 Axes>"
      ]
     },
     "metadata": {
      "needs_background": "light"
     },
     "output_type": "display_data"
    }
   ],
   "source": [
    "my_plot2 = grouped[['Football','Players','Weather']].plot(kind='bar', stacked=True,figsize = (8,5),title = \"Figure 1: Daily Average Content\")\n",
    "\n",
    "my_plot1.set_ylabel(\"Proportion\")\n"
   ]
  },
  {
   "cell_type": "markdown",
   "id": "500e5f66-6aa1-4fa4-b002-d9f68f5f7762",
   "metadata": {},
   "source": [
    "# Not accounting for colinearity"
   ]
  },
  {
   "cell_type": "code",
   "execution_count": 36,
   "id": "b3a10e72-c252-4e3b-b354-b711c675018d",
   "metadata": {},
   "outputs": [
    {
     "name": "stdout",
     "output_type": "stream",
     "text": [
      "                            OLS Regression Results                            \n",
      "==============================================================================\n",
      "Dep. Variable:             Attendance   R-squared:                       0.636\n",
      "Model:                            OLS   Adj. R-squared:                  0.029\n",
      "Method:                 Least Squares   F-statistic:                     1.047\n",
      "Date:                Fri, 24 Sep 2021   Prob (F-statistic):              0.519\n",
      "Time:                        22:01:54   Log-Likelihood:                 7.0192\n",
      "No. Observations:                   9   AIC:                            -2.038\n",
      "Df Residuals:                       3   BIC:                           -0.8550\n",
      "Df Model:                           5                                         \n",
      "Covariance Type:            nonrobust                                         \n",
      "======================================================================================\n",
      "                         coef    std err          t      P>|t|      [0.025      0.975]\n",
      "--------------------------------------------------------------------------------------\n",
      "const                251.8843    200.557      1.256      0.298    -386.377     890.146\n",
      "negative_sentiment  -208.8234    188.664     -1.107      0.349    -809.236     391.589\n",
      "positive_sentiment  -208.1561    188.715     -1.103      0.351    -808.733     392.421\n",
      "Football             -32.9613     24.808     -1.329      0.276    -111.911      45.988\n",
      "Players              -32.4071     24.488     -1.323      0.278    -110.340      45.525\n",
      "Weather              -32.2446     24.582     -1.312      0.281    -110.476      45.987\n",
      "==============================================================================\n",
      "Omnibus:                        0.535   Durbin-Watson:                   1.304\n",
      "Prob(Omnibus):                  0.765   Jarque-Bera (JB):                0.013\n",
      "Skew:                           0.023   Prob(JB):                        0.993\n",
      "Kurtosis:                       2.818   Cond. No.                     7.32e+03\n",
      "==============================================================================\n",
      "\n",
      "Notes:\n",
      "[1] Standard Errors assume that the covariance matrix of the errors is correctly specified.\n",
      "[2] The condition number is large, 7.32e+03. This might indicate that there are\n",
      "strong multicollinearity or other numerical problems.\n"
     ]
    },
    {
     "name": "stderr",
     "output_type": "stream",
     "text": [
      "/Users/george/Documents/Holland_Uni/Year_4/learning-from-big-data-master/env/lib/python3.7/site-packages/scipy/stats/stats.py:1542: UserWarning: kurtosistest only valid for n>=20 ... continuing anyway, n=9\n",
      "  \"anyway, n=%i\" % int(n))\n"
     ]
    }
   ],
   "source": [
    "y1 = grouped['Attendance']\n",
    "y1 = grouped['Attendance'].apply(lambda x: math.log(x))\n",
    "x1 = grouped[['negative_sentiment','positive_sentiment','Football','Players','Weather']]\n",
    "#x1 = grouped[['positive_sentiment','Football','Weather']]\n",
    "\n",
    "x1 = sm.add_constant(x1, has_constant='add')\n",
    "OLS_Regression_noln = sm.OLS(y1,x1).fit()\n",
    "print(OLS_Regression_noln.summary())"
   ]
  },
  {
   "cell_type": "markdown",
   "id": "4645f307-12de-410f-87d8-c541dc1b77ff",
   "metadata": {},
   "source": [
    "# Accounting for colinearity"
   ]
  },
  {
   "cell_type": "code",
   "execution_count": 37,
   "id": "123e9ccc-d520-4953-aae5-7c6d34bceae4",
   "metadata": {},
   "outputs": [
    {
     "name": "stdout",
     "output_type": "stream",
     "text": [
      "                            OLS Regression Results                            \n",
      "==============================================================================\n",
      "Dep. Variable:             Attendance   R-squared:                       0.379\n",
      "Model:                            OLS   Adj. R-squared:                  0.006\n",
      "Method:                 Least Squares   F-statistic:                     1.016\n",
      "Date:                Fri, 24 Sep 2021   Prob (F-statistic):              0.459\n",
      "Time:                        22:01:54   Log-Likelihood:                 4.6170\n",
      "No. Observations:                   9   AIC:                            -1.234\n",
      "Df Residuals:                       5   BIC:                           -0.4452\n",
      "Df Model:                           3                                         \n",
      "Covariance Type:            nonrobust                                         \n",
      "======================================================================================\n",
      "                         coef    std err          t      P>|t|      [0.025      0.975]\n",
      "--------------------------------------------------------------------------------------\n",
      "const                 10.1808      0.505     20.145      0.000       8.882      11.480\n",
      "positive_sentiment     0.7809      0.658      1.187      0.289      -0.910       2.472\n",
      "Players                0.0569      0.428      0.133      0.899      -1.045       1.158\n",
      "Weather                0.3571      0.405      0.882      0.418      -0.684       1.398\n",
      "==============================================================================\n",
      "Omnibus:                        4.202   Durbin-Watson:                   0.863\n",
      "Prob(Omnibus):                  0.122   Jarque-Bera (JB):                1.423\n",
      "Skew:                           0.962   Prob(JB):                        0.491\n",
      "Kurtosis:                       3.303   Cond. No.                         16.7\n",
      "==============================================================================\n",
      "\n",
      "Notes:\n",
      "[1] Standard Errors assume that the covariance matrix of the errors is correctly specified.\n"
     ]
    },
    {
     "name": "stderr",
     "output_type": "stream",
     "text": [
      "/Users/george/Documents/Holland_Uni/Year_4/learning-from-big-data-master/env/lib/python3.7/site-packages/scipy/stats/stats.py:1542: UserWarning: kurtosistest only valid for n>=20 ... continuing anyway, n=9\n",
      "  \"anyway, n=%i\" % int(n))\n"
     ]
    }
   ],
   "source": [
    "y1 = grouped['Attendance']\n",
    "y1 = grouped['Attendance'].apply(lambda x: math.log(x))\n",
    "x1 = grouped[['positive_sentiment','Players','Weather']]\n",
    "\n",
    "#x1 = preprocessing.scale(x1)\n",
    "#y1 = preprocessing.scale(y1)\n",
    "\n",
    "x1 = sm.add_constant(x1, has_constant='add')\n",
    "OLS_Regression_noln = sm.OLS(y1,x1).fit()\n",
    "print(OLS_Regression_noln.summary())"
   ]
  }
 ],
 "metadata": {
  "kernelspec": {
   "display_name": "Python 3",
   "language": "python",
   "name": "python3"
  },
  "language_info": {
   "codemirror_mode": {
    "name": "ipython",
    "version": 3
   },
   "file_extension": ".py",
   "mimetype": "text/x-python",
   "name": "python",
   "nbconvert_exporter": "python",
   "pygments_lexer": "ipython3",
   "version": "3.7.9"
  }
 },
 "nbformat": 4,
 "nbformat_minor": 5
}
